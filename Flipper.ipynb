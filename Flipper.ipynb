{
 "cells": [
  {
   "cell_type": "code",
   "execution_count": 1,
   "metadata": {},
   "outputs": [],
   "source": [
    "import os\n",
    "import json\n",
    "\n",
    "import numpy as np\n",
    "\n",
    "from datetime import date, datetime, timedelta\n",
    "import matplotlib.pyplot as plt"
   ]
  },
  {
   "cell_type": "code",
   "execution_count": 2,
   "metadata": {},
   "outputs": [],
   "source": [
    "from src.jump import Jump\n",
    "from pso import *"
   ]
  },
  {
   "cell_type": "code",
   "execution_count": 3,
   "metadata": {},
   "outputs": [],
   "source": [
    "BEG_OF_TIME = '2016-06-01'\n",
    "END_OF_TIME = '2020-09-30'\n",
    "\n",
    "PSO_HP = PSOHyperparameters(\n",
    "    inertia = 0.09,\n",
    "    inertia_dampening = 0.99,\n",
    "    cognitive_acceleration = 1.0,\n",
    "    social_acceleration = 1.0,\n",
    ")\n",
    "\n",
    "PSO_POPULATION = 100\n",
    "PSO_NB_ITER    = 100"
   ]
  },
  {
   "cell_type": "code",
   "execution_count": 4,
   "metadata": {},
   "outputs": [],
   "source": [
    "def get_asset_returns(asset):\n",
    "    \"\"\"\n",
    "    get complete return time serie for an asset\n",
    "    \"\"\"\n",
    "    returns = []\n",
    "\n",
    "    beg_date  = datetime.strptime(BEG_OF_TIME, '%Y-%m-%d').date()\n",
    "    prev_date = beg_date - timedelta(days=32)\n",
    "    prev_value = 0.0\n",
    "\n",
    "    first_return = None\n",
    "\n",
    "    def add_return(current_date, ret):\n",
    "        if current_date >= beg_date:\n",
    "            returns.append(ret)\n",
    "\n",
    "    for i, values in enumerate(asset[\"values\"]):\n",
    "        current_date = datetime.strptime(values[\"date\"], '%Y-%m-%d').date()\n",
    "        \n",
    "        if current_date <= beg_date:\n",
    "            first_return = current_date\n",
    "        \n",
    "        nb_days = (current_date - prev_date).days\n",
    "        diff = (values[\"return\"] - prev_value) / nb_days\n",
    "\n",
    "        for i in range(nb_days - 1):\n",
    "            add_return(prev_date + timedelta(days=i+1), prev_value)\n",
    "        add_return(current_date, values[\"return\"])\n",
    "\n",
    "        prev_value = values[\"return\"]\n",
    "        prev_date = current_date\n",
    "\n",
    "    return first_return, returns"
   ]
  },
  {
   "cell_type": "code",
   "execution_count": 5,
   "metadata": {},
   "outputs": [],
   "source": [
    "def plot_history(history):\n",
    "    plt.plot(history)\n",
    "    plt.ylabel('fitness')\n",
    "    plt.xlabel('iteration')\n",
    "    plt.title('Evolution of fitnesss')\n",
    "    plt.show()"
   ]
  },
  {
   "cell_type": "code",
   "execution_count": 6,
   "metadata": {},
   "outputs": [],
   "source": [
    "def check_constraints(best_particle, nb_funds):\n",
    "    stock_perc = np.sum(best_particle[nb_funds:])\n",
    "\n",
    "    nav_ok = np.all(np.logical_and(\n",
    "        np.logical_or(best_particle == 0, best_particle >= 0.01),\n",
    "        best_particle < 0.1,\n",
    "    ))\n",
    "\n",
    "    nb_assets = np.sum(best_particle >= 0.01)\n",
    "\n",
    "    print(f\"[{'OK' if stock_perc > 0.5 else 'KO'}] Stock %: {stock_perc:.2f}\")\n",
    "    print(f\"[{'OK' if nav_ok else 'KO'}] %Nav\")\n",
    "    print(f\"[{'OK' if nb_assets > 15 else 'KO'}] Asset count: {nb_assets}\")"
   ]
  },
  {
   "cell_type": "markdown",
   "metadata": {},
   "source": [
    "## Preprocessing"
   ]
  },
  {
   "cell_type": "markdown",
   "metadata": {},
   "source": [
    "### Load assets & get returns time series"
   ]
  },
  {
   "cell_type": "code",
   "execution_count": 7,
   "metadata": {},
   "outputs": [
    {
     "name": "stdout",
     "output_type": "stream",
     "text": [
      "Drop id=2124 , date=2018-10-22      name=29 HAUSSMANN EQUILIBRE\n",
      "Drop id=1428 , date=2018-10-22      name=AAA - ACTIONS AGRO ALIM.I FCP\n",
      "Drop id=2155 , date=2018-10-22      name=ABERDEEN FUNDS GLOBAL PHARMA EQUITY - A\n",
      "Drop id=2125 , date=2018-10-22      name=ABERDEEN GLOBAL ASIA PACIFIC EQUITY E2\n",
      "Drop id=2126 , date=2018-10-22      name=ABERDEEN GLOBAL - ASIA PACIFIC EQU - X ACC (EUR)\n",
      "Drop id=2130 , date=2018-10-22      name=ACA - HORIZON MONDE (EUR)\n",
      "Drop id=1855 , date=2017-05-10      name=ADOMOS\n",
      "Drop id=1867 , date=2018-10-22      name=ALLIANZ SE-VINK\n",
      "Drop id=1904 , date=2017-10-25      name=BANCA MONTE DEI\n",
      "Drop id=1954 , date=2016-07-20      name=CGG\n",
      "Drop id=1955 , date=2018-06-14      name=CGGVERITAS\n",
      "Drop id=1957 , date=2016-06-10      name=CHAUSSERIA\n",
      "Drop id=1488 , date=2016-08-26      name=CPR-SILVER AGE-I\n",
      "Drop id=1974 , date=2016-10-26      name=CYBERGUN\n",
      "Drop id=2087 , date=2018-10-22      name=DELL INC\n",
      "Drop id=2048 , date=2018-10-22      name=FRESENIUS MEDICA\n",
      "Drop id=2049 , date=2018-10-22      name=FRESENIUS SE & C\n"
     ]
    }
   ],
   "source": [
    "asset_dict = Jump().get_all_assets(\"assets_cache.json\", start_date=\"2016-05-01\")\n",
    "\n",
    "returns_list = []\n",
    "to_del = []\n",
    "first_returns = {}\n",
    "\n",
    "for k, asset in asset_dict.items():\n",
    "    first_return, returns = get_asset_returns(asset)\n",
    "\n",
    "    if first_return is None:\n",
    "        label = asset[\"label\"]\n",
    "        fdate = asset[\"values\"][0][\"date\"]\n",
    "\n",
    "        print(f\"Drop id={k:5}, date={fdate:15} name={label}\")\n",
    "        to_del.append(k)\n",
    "    else:\n",
    "        first_returns[k] = first_return\n",
    "        returns_list.append(returns)\n",
    "\n",
    "for td in to_del:\n",
    "    del asset_dict[td]\n",
    "        \n",
    "returns_list = np.array(returns_list)"
   ]
  },
  {
   "cell_type": "markdown",
   "metadata": {},
   "source": [
    "### Split funds and stocks"
   ]
  },
  {
   "cell_type": "code",
   "execution_count": 8,
   "metadata": {},
   "outputs": [
    {
     "data": {
      "text/plain": [
       "(130, 331)"
      ]
     },
     "execution_count": 8,
     "metadata": {},
     "output_type": "execute_result"
    }
   ],
   "source": [
    "funds_keys = []\n",
    "stock_keys = []\n",
    "\n",
    "funds_returns = []\n",
    "stock_returns = []\n",
    "\n",
    "funds_real_count = []\n",
    "funds_price = []\n",
    "stock_price = []\n",
    "\n",
    "ref_portfolio = None\n",
    "our_portfolio = None\n",
    "\n",
    "for i, (k, v) in enumerate(asset_dict.items()):\n",
    "    if v[\"type\"] in (\"ETF FUND\", \"FUND\", \"INDEX\"):\n",
    "        nav = v[\"values\"][0][\"values_usd\"][\"nav\"]\n",
    "\n",
    "        funds_keys.append(k)\n",
    "        funds_returns.append(returns_list[i])\n",
    "        funds_price.append(nav)\n",
    "        funds_real_count.append(1)\n",
    "        # FIXME funds decimalisation: need to divide price and count\n",
    "\n",
    "    elif v[\"type\"] in (\"STOCK\",):\n",
    "        nav = v[\"values\"][0][\"values_usd\"][\"nav\"]\n",
    "\n",
    "        stock_keys.append(k)\n",
    "        stock_returns.append(returns_list[i])\n",
    "        stock_price.append(nav)\n",
    "\n",
    "    elif v[\"type\"] in (\"PORTFOLIO\",\"LOUCHE\"):\n",
    "        if v[\"label\"] == \"REF\":\n",
    "            ref_portfolio = k, v\n",
    "        else:\n",
    "            our_portfolio = k, v\n",
    "\n",
    "len(funds_keys), len(stock_keys)"
   ]
  },
  {
   "cell_type": "markdown",
   "metadata": {},
   "source": [
    "### Get values for PSO"
   ]
  },
  {
   "cell_type": "code",
   "execution_count": 9,
   "metadata": {},
   "outputs": [],
   "source": [
    "funds_covariance = np.cov(funds_returns)\n",
    "stock_covariance = np.cov(stock_returns)\n",
    "\n",
    "funds_values = np.mean(funds_returns, axis=1)\n",
    "stock_values = np.mean(stock_returns, axis=1)"
   ]
  },
  {
   "cell_type": "markdown",
   "metadata": {},
   "source": [
    "## Run PSO for stocks"
   ]
  },
  {
   "cell_type": "code",
   "execution_count": 10,
   "metadata": {},
   "outputs": [],
   "source": [
    "StockPSO = ParticleSwarmOptimizer(\n",
    "    population_size=PSO_POPULATION,\n",
    "    hyperparameters=PSO_HP,\n",
    "    constraints=PSOConstraints(\n",
    "        n_var = len(stock_values),\n",
    "        var_min = 0.02,\n",
    "        var_max = 0.20,\n",
    "        min_diff_titles = 8,\n",
    "    ),\n",
    "    values=stock_values,\n",
    "    covariance_matrix=stock_covariance,\n",
    ")"
   ]
  },
  {
   "cell_type": "code",
   "execution_count": 11,
   "metadata": {},
   "outputs": [
    {
     "data": {
      "application/vnd.jupyter.widget-view+json": {
       "model_id": "46e15fbc7b0444b0bf34fb55c9d4a2df",
       "version_major": 2,
       "version_minor": 0
      },
      "text/plain": [
       "HBox(children=(FloatProgress(value=0.0, max=64600.0), HTML(value='')))"
      ]
     },
     "metadata": {},
     "output_type": "display_data"
    },
    {
     "name": "stdout",
     "output_type": "stream",
     "text": [
      "\n"
     ]
    }
   ],
   "source": [
    "best_stock_particle, history = StockPSO.run(200)"
   ]
  },
  {
   "cell_type": "code",
   "execution_count": 12,
   "metadata": {},
   "outputs": [
    {
     "data": {
      "image/png": "[encoded data removed]",
      "text/plain": [
       "<Figure size 432x288 with 1 Axes>"
      ]
     },
     "metadata": {
      "needs_background": "light"
     },
     "output_type": "display_data"
    }
   ],
   "source": [
    "plot_history(history)"
   ]
  },
  {
   "cell_type": "markdown",
   "metadata": {},
   "source": [
    "## Run PSO for funds"
   ]
  },
  {
   "cell_type": "code",
   "execution_count": 13,
   "metadata": {},
   "outputs": [],
   "source": [
    "FundsPSO = ParticleSwarmOptimizer(\n",
    "    population_size=PSO_POPULATION,\n",
    "    hyperparameters=PSO_HP,\n",
    "    constraints=PSOConstraints(\n",
    "        n_var = len(funds_values),\n",
    "        var_min = 0.02,\n",
    "        var_max = 0.20,\n",
    "        min_diff_titles = 8,\n",
    "    ),\n",
    "    values=funds_values,\n",
    "    covariance_matrix=funds_covariance,\n",
    ")"
   ]
  },
  {
   "cell_type": "code",
   "execution_count": 14,
   "metadata": {},
   "outputs": [
    {
     "data": {
      "application/vnd.jupyter.widget-view+json": {
       "model_id": "a82365d2c5c64006941f19ec81c09af1",
       "version_major": 2,
       "version_minor": 0
      },
      "text/plain": [
       "HBox(children=(FloatProgress(value=0.0, max=12200.0), HTML(value='')))"
      ]
     },
     "metadata": {},
     "output_type": "display_data"
    },
    {
     "name": "stdout",
     "output_type": "stream",
     "text": [
      "\n"
     ]
    }
   ],
   "source": [
    "best_funds_particle, history = FundsPSO.run(PSO_NB_ITER)"
   ]
  },
  {
   "cell_type": "code",
   "execution_count": 15,
   "metadata": {},
   "outputs": [
    {
     "data": {
      "image/png": "[encoded data removed]",
      "text/plain": [
       "<Figure size 432x288 with 1 Axes>"
      ]
     },
     "metadata": {
      "needs_background": "light"
     },
     "output_type": "display_data"
    }
   ],
   "source": [
    "plot_history(history)"
   ]
  },
  {
   "cell_type": "markdown",
   "metadata": {},
   "source": [
    "# Construct complete portfolio"
   ]
  },
  {
   "cell_type": "code",
   "execution_count": 16,
   "metadata": {},
   "outputs": [],
   "source": [
    "returns = np.concatenate((funds_returns, stock_returns))\n",
    "values = np.mean(returns, axis=1)\n",
    "covariance = np.cov(returns)\n",
    "prices = np.concatenate((funds_price, stock_price))\n",
    "real_counts = np.concatenate((funds_real_count, np.ones(len(stock_price))))\n",
    "\n",
    "best_particle = np.concatenate((best_funds_particle*0.49, best_stock_particle*0.51))"
   ]
  },
  {
   "cell_type": "markdown",
   "metadata": {},
   "source": [
    "#### Check if constraints are respected"
   ]
  },
  {
   "cell_type": "code",
   "execution_count": 17,
   "metadata": {},
   "outputs": [
    {
     "name": "stdout",
     "output_type": "stream",
     "text": [
      "[OK] Stock %: 0.51\n",
      "[OK] %Nav\n",
      "[OK] Asset count: 18\n"
     ]
    }
   ],
   "source": [
    "check_constraints(best_particle, len(funds_returns))"
   ]
  },
  {
   "cell_type": "markdown",
   "metadata": {},
   "source": [
    "### Compute total fitness"
   ]
  },
  {
   "cell_type": "code",
   "execution_count": 18,
   "metadata": {},
   "outputs": [
    {
     "data": {
      "text/plain": [
       "97.50570073080141"
      ]
     },
     "execution_count": 18,
     "metadata": {},
     "output_type": "execute_result"
    }
   ],
   "source": [
    "TestPSO = ParticleSwarmOptimizer(\n",
    "    population_size=0,\n",
    "    hyperparameters=PSO_HP,\n",
    "    constraints=PSOConstraints(\n",
    "        n_var = len(returns),\n",
    "        var_min = 0.02,\n",
    "        var_max = 0.20,\n",
    "        min_diff_titles = 8,\n",
    "    ),\n",
    "    values=values,\n",
    "    covariance_matrix=covariance,\n",
    ")\n",
    "TestPSO.fitness(best_particle)"
   ]
  },
  {
   "cell_type": "markdown",
   "metadata": {},
   "source": [
    "# Compute final portfolio"
   ]
  },
  {
   "cell_type": "code",
   "execution_count": 19,
   "metadata": {},
   "outputs": [
    {
     "data": {
      "text/plain": [
       "(218797.41285, 5182.900431)"
      ]
     },
     "execution_count": 19,
     "metadata": {},
     "output_type": "execute_result"
    }
   ],
   "source": [
    "np.max(funds_price), np.max(stock_price)"
   ]
  },
  {
   "cell_type": "code",
   "execution_count": 20,
   "metadata": {},
   "outputs": [
    {
     "data": {
      "text/plain": [
       "'204,800,000$'"
      ]
     },
     "execution_count": 20,
     "metadata": {},
     "output_type": "execute_result"
    }
   ],
   "source": [
    "def nav_to_count(total, prices, nav):\n",
    "    return ((total * nav) / prices).astype(np.int32)\n",
    "\n",
    "def count_to_nav(total, prices, count):\n",
    "    return (count * prices) / total\n",
    "\n",
    "def price_error(total, prices, nav):\n",
    "    diff = nav - count_to_nav(total, prices, nav_to_count(total, prices, nav))\n",
    "    return np.sum(np.abs(diff))\n",
    "\n",
    "total_price = 100000\n",
    "\n",
    "while price_error(total_price, prices, best_particle) > 0.001:\n",
    "    total_price *= 2\n",
    "\n",
    "portfolio_titles = nav_to_count(total_price, prices, best_particle).astype(np.int32)\n",
    "f\"{total_price:,}$\""
   ]
  },
  {
   "cell_type": "markdown",
   "metadata": {},
   "source": [
    "### Let's check if the approximation was successful"
   ]
  },
  {
   "cell_type": "code",
   "execution_count": 21,
   "metadata": {},
   "outputs": [
    {
     "data": {
      "text/plain": [
       "0.0003420228310819923"
      ]
     },
     "execution_count": 21,
     "metadata": {},
     "output_type": "execute_result"
    }
   ],
   "source": [
    "final_particle = count_to_nav(total_price, prices, portfolio_titles)\n",
    "np.max(np.abs(final_particle - best_particle))"
   ]
  },
  {
   "cell_type": "code",
   "execution_count": 22,
   "metadata": {},
   "outputs": [
    {
     "data": {
      "text/plain": [
       "97.52472717303627"
      ]
     },
     "execution_count": 22,
     "metadata": {},
     "output_type": "execute_result"
    }
   ],
   "source": [
    "TestPSO.fitness(final_particle)"
   ]
  },
  {
   "cell_type": "code",
   "execution_count": 23,
   "metadata": {},
   "outputs": [
    {
     "name": "stdout",
     "output_type": "stream",
     "text": [
      "[OK] Stock %: 0.51\n",
      "[OK] %Nav\n",
      "[OK] Asset count: 18\n"
     ]
    }
   ],
   "source": [
    "check_constraints(final_particle, len(funds_returns))"
   ]
  },
  {
   "cell_type": "markdown",
   "metadata": {},
   "source": [
    "### Compute real portfolio"
   ]
  },
  {
   "cell_type": "code",
   "execution_count": 24,
   "metadata": {},
   "outputs": [
    {
     "data": {
      "text/plain": [
       "{'2016-06-01': [{'asset': {'asset': 2154, 'quantity': 552590}},\n",
       "  {'asset': {'asset': 2142, 'quantity': 20917}},\n",
       "  {'asset': {'asset': 2158, 'quantity': 83495}},\n",
       "  {'asset': {'asset': 2164, 'quantity': 236511}},\n",
       "  {'asset': {'asset': 1541, 'quantity': 5540}},\n",
       "  {'asset': {'asset': 1559, 'quantity': 51696}},\n",
       "  {'asset': {'asset': 2189, 'quantity': 50981}},\n",
       "  {'asset': {'asset': 1608, 'quantity': 30885}},\n",
       "  {'asset': {'asset': 1732, 'quantity': 79}},\n",
       "  {'asset': {'asset': 2062, 'quantity': 138352}},\n",
       "  {'asset': {'asset': 2068, 'quantity': 165534}},\n",
       "  {'asset': {'asset': 1910, 'quantity': 135974}},\n",
       "  {'asset': {'asset': 2074, 'quantity': 47151}},\n",
       "  {'asset': {'asset': 1931, 'quantity': 144625}},\n",
       "  {'asset': {'asset': 1956, 'quantity': 885926}},\n",
       "  {'asset': {'asset': 2024, 'quantity': 54999}},\n",
       "  {'asset': {'asset': 2045, 'quantity': 325158}},\n",
       "  {'asset': {'asset': 1730, 'quantity': 810190}}]}"
      ]
     },
     "execution_count": 24,
     "metadata": {},
     "output_type": "execute_result"
    }
   ],
   "source": [
    "# funds decimalisation\n",
    "final_portfolio_counts = portfolio_titles * real_counts\n",
    "\n",
    "# back to IDs!\n",
    "final_portfolio = {}\n",
    "keys = np.concatenate((funds_keys, stock_keys))\n",
    "\n",
    "for i, v in enumerate(final_portfolio_counts):\n",
    "    if v == 0:\n",
    "        continue\n",
    "\n",
    "    asset = asset_dict[keys[i]]\n",
    "    date = BEG_OF_TIME #str(first_returns[keys[i]])\n",
    "\n",
    "    final_portfolio.setdefault(date, []).append({\n",
    "        \"asset\": {\n",
    "            \"asset\": int(keys[i]),\n",
    "            \"quantity\": int(v),\n",
    "        }\n",
    "    })\n",
    "\n",
    "final_portfolio"
   ]
  },
  {
   "cell_type": "markdown",
   "metadata": {},
   "source": [
    "# Upload portfolio"
   ]
  },
  {
   "cell_type": "code",
   "execution_count": 28,
   "metadata": {},
   "outputs": [
    {
     "data": {
      "text/plain": [
       "<Response [200]>"
      ]
     },
     "execution_count": 28,
     "metadata": {},
     "output_type": "execute_result"
    }
   ],
   "source": [
    "portfolio_obj = {\n",
    "    \"label\": \"EPITA_PTF_1\",\n",
    "    \"currency\": {\n",
    "        \"code\": \"EUR\"\n",
    "    },\n",
    "    \"type\": \"front\",\n",
    "    \"values\": final_portfolio,\n",
    "}\n",
    "\n",
    "Jump().update_portfolio(our_portfolio[0], portfolio_obj)"
   ]
  },
  {
   "cell_type": "markdown",
   "metadata": {},
   "source": [
    "### Check sharp ratio"
   ]
  },
  {
   "cell_type": "code",
   "execution_count": 29,
   "metadata": {},
   "outputs": [
    {
     "name": "stdout",
     "output_type": "stream",
     "text": [
      "Our ratio: 2,190261458429\n",
      "Ref ratio: 0,146571943186\n"
     ]
    }
   ],
   "source": [
    "results = Jump().calculate_ratio(ratio_ids=[12], asset_ids=[our_portfolio[0], ref_portfolio[0]]).json()\n",
    "\n",
    "print(f\"Our ratio: {results[our_portfolio[0]]['12']['value']}\")\n",
    "print(f\"Ref ratio: {results[ref_portfolio[0]]['12']['value']}\")"
   ]
  },
  {
   "cell_type": "code",
   "execution_count": 27,
   "metadata": {},
   "outputs": [
    {
     "data": {
      "text/plain": [
       "{'label': 'EPITA_PTF_1',\n",
       " 'currency': {'code': 'EUR'},\n",
       " 'type': 'front',\n",
       " 'values': {'2016-06-01': [{'asset': {'asset': 1730, 'quantity': 810190.0}},\n",
       "   {'asset': {'asset': 1732, 'quantity': 79.0}},\n",
       "   {'asset': {'asset': 1956, 'quantity': 885926.0}},\n",
       "   {'asset': {'asset': 1541, 'quantity': 5540.0}},\n",
       "   {'asset': {'asset': 1608, 'quantity': 30885.0}},\n",
       "   {'asset': {'asset': 2024, 'quantity': 54999.0}},\n",
       "   {'asset': {'asset': 2154, 'quantity': 552590.0}},\n",
       "   {'asset': {'asset': 1931, 'quantity': 144625.0}},\n",
       "   {'asset': {'asset': 2189, 'quantity': 50981.0}},\n",
       "   {'asset': {'asset': 2158, 'quantity': 83495.0}},\n",
       "   {'asset': {'asset': 2062, 'quantity': 138352.0}},\n",
       "   {'asset': {'asset': 2164, 'quantity': 236511.0}},\n",
       "   {'asset': {'asset': 2068, 'quantity': 165534.0}},\n",
       "   {'asset': {'asset': 1910, 'quantity': 135974.0}},\n",
       "   {'asset': {'asset': 1559, 'quantity': 51696.0}},\n",
       "   {'asset': {'asset': 2074, 'quantity': 47151.0}},\n",
       "   {'asset': {'asset': 2045, 'quantity': 325158.0}},\n",
       "   {'asset': {'asset': 2142, 'quantity': 20917.0}}]}}"
      ]
     },
     "execution_count": 27,
     "metadata": {},
     "output_type": "execute_result"
    }
   ],
   "source": [
    "Jump().get_portfolio(our_portfolio[0])"
   ]
  },
  {
   "cell_type": "code",
   "execution_count": null,
   "metadata": {},
   "outputs": [],
   "source": []
  }
 ],
 "metadata": {
  "kernelspec": {
   "display_name": "Python 3",
   "language": "python",
   "name": "python3"
  },
  "language_info": {
   "codemirror_mode": {
    "name": "ipython",
    "version": 3
   },
   "file_extension": ".py",
   "mimetype": "text/x-python",
   "name": "python",
   "nbconvert_exporter": "python",
   "pygments_lexer": "ipython3",
   "version": "3.8.6"
  }
 },
 "nbformat": 4,
 "nbformat_minor": 4
}
