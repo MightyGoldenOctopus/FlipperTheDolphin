{
 "cells": [
  {
   "cell_type": "code",
   "execution_count": 1,
   "metadata": {},
   "outputs": [],
   "source": [
    "import os\n",
    "import json\n",
    "\n",
    "import numpy as np\n",
    "\n",
    "from datetime import date, datetime, timedelta\n",
    "import matplotlib.pyplot as plt"
   ]
  },
  {
   "cell_type": "code",
   "execution_count": 2,
   "metadata": {},
   "outputs": [],
   "source": [
    "from src.jump import Jump\n",
    "from pso import *"
   ]
  },
  {
   "cell_type": "code",
   "execution_count": 3,
   "metadata": {},
   "outputs": [],
   "source": [
    "BEG_OF_TIME = '2016-06-01'\n",
    "END_OF_TIME = '2020-09-30'"
   ]
  },
  {
   "cell_type": "code",
   "execution_count": 4,
   "metadata": {},
   "outputs": [],
   "source": [
    "def get_asset_returns(asset):\n",
    "    \"\"\"\n",
    "    get complete return time serie for an asset\n",
    "    \"\"\"\n",
    "    returns = []\n",
    "\n",
    "    prev_date = datetime.strptime(BEG_OF_TIME, '%Y-%m-%d').date() - timedelta(days=1)\n",
    "    prev_value = 0.0\n",
    "\n",
    "    for i, values in enumerate(asset[\"values\"]):\n",
    "        current_date = datetime.strptime(values[\"date\"], '%Y-%m-%d').date()\n",
    "\n",
    "        nb_days = (current_date - prev_date).days\n",
    "        diff = (values[\"return\"] - prev_value) / nb_days\n",
    "\n",
    "        for i in range(nb_days - 1):\n",
    "            returns.append(prev_value)\n",
    "        returns.append(values[\"return\"])\n",
    "\n",
    "        prev_value = values[\"return\"]\n",
    "        prev_date = current_date\n",
    "\n",
    "    return returns"
   ]
  },
  {
   "cell_type": "code",
   "execution_count": 5,
   "metadata": {},
   "outputs": [],
   "source": [
    "def plot_history(history):\n",
    "    plt.plot(history)\n",
    "    plt.ylabel('fitness')\n",
    "    plt.xlabel('iteration')\n",
    "    plt.title('Evolution of fitnesss')\n",
    "    plt.show()"
   ]
  },
  {
   "cell_type": "markdown",
   "metadata": {},
   "source": [
    "## Preprocessing"
   ]
  },
  {
   "cell_type": "code",
   "execution_count": 6,
   "metadata": {},
   "outputs": [],
   "source": [
    "asset_dict, portfolio_id = Jump().get_all_assets(\"assets_cache.json\")\n",
    "\n",
    "keys = list(asset_dict.keys())\n",
    "assets = list(asset_dict.values())\n",
    "\n",
    "returns_list = []\n",
    "\n",
    "for _, asset in asset_dict.items():\n",
    "    returns = get_asset_returns(asset)\n",
    "    returns_list.append(returns)\n",
    "\n",
    "returns_list = np.array(returns_list)\n",
    "mean_returns = np.mean(returns_list, axis=1)\n",
    "\n",
    "returns_covariance = np.cov(returns_list)"
   ]
  },
  {
   "cell_type": "markdown",
   "metadata": {},
   "source": [
    "## Run PSO"
   ]
  },
  {
   "cell_type": "code",
   "execution_count": 7,
   "metadata": {},
   "outputs": [],
   "source": [
    "PSO = ParticleSwarmOptimizer(\n",
    "    population_size=100,\n",
    "    hyperparameters=PSOHyperparameters(\n",
    "        inertia = 0.09,\n",
    "        inertia_dampening = 0.99,\n",
    "        cognitive_acceleration = 1.0,\n",
    "        social_acceleration = 1.0,\n",
    "    ),\n",
    "    constraints=PSOConstraints(\n",
    "        n_var = len(asset_dict),\n",
    "        var_min = 0.00,\n",
    "        var_max = 0.10,\n",
    "    ),\n",
    "    values=mean_returns,\n",
    "    covariance_matrix=returns_covariance,\n",
    ")"
   ]
  },
  {
   "cell_type": "code",
   "execution_count": 8,
   "metadata": {},
   "outputs": [
    {
     "data": {
      "application/vnd.jupyter.widget-view+json": {
       "model_id": "9083fbea51794e2ca062fc028d142f29",
       "version_major": 2,
       "version_minor": 0
      },
      "text/plain": [
       "HBox(children=(FloatProgress(value=0.0, max=1000.0), HTML(value='')))"
      ]
     },
     "metadata": {},
     "output_type": "display_data"
    },
    {
     "name": "stdout",
     "output_type": "stream",
     "text": [
      "\n"
     ]
    }
   ],
   "source": [
    "best_particle, history = PSO.run(1000)"
   ]
  },
  {
   "cell_type": "code",
   "execution_count": 9,
   "metadata": {},
   "outputs": [
    {
     "data": {
      "image/png": "[encoded data removed]",
      "text/plain": [
       "<Figure size 432x288 with 1 Axes>"
      ]
     },
     "metadata": {
      "needs_background": "light"
     },
     "output_type": "display_data"
    }
   ],
   "source": [
    "plot_history(history)"
   ]
  },
  {
   "cell_type": "code",
   "execution_count": null,
   "metadata": {},
   "outputs": [],
   "source": []
  }
 ],
 "metadata": {
  "kernelspec": {
   "display_name": "Python 3",
   "language": "python",
   "name": "python3"
  },
  "language_info": {
   "codemirror_mode": {
    "name": "ipython",
    "version": 3
   },
   "file_extension": ".py",
   "mimetype": "text/x-python",
   "name": "python",
   "nbconvert_exporter": "python",
   "pygments_lexer": "ipython3",
   "version": "3.8.6"
  }
 },
 "nbformat": 4,
 "nbformat_minor": 4
}
