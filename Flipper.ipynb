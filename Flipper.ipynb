{
 "cells": [
  {
   "cell_type": "code",
   "execution_count": 1,
   "metadata": {},
   "outputs": [],
   "source": [
    "import os\n",
    "import json\n",
    "\n",
    "import numpy as np\n",
    "\n",
    "from datetime import date, datetime, timedelta\n",
    "import matplotlib.pyplot as plt"
   ]
  },
  {
   "cell_type": "code",
   "execution_count": 2,
   "metadata": {},
   "outputs": [],
   "source": [
    "from src.jump import Jump\n",
    "from pso import *"
   ]
  },
  {
   "cell_type": "code",
   "execution_count": 3,
   "metadata": {},
   "outputs": [],
   "source": [
    "BEG_OF_TIME = '2016-06-01'\n",
    "END_OF_TIME = '2020-09-30'\n",
    "\n",
    "PSO_HP = PSOHyperparameters(\n",
    "    inertia = 0.09,\n",
    "    inertia_dampening = 0.99,\n",
    "    cognitive_acceleration = 1.0,\n",
    "    social_acceleration = 1.0,\n",
    ")\n",
    "\n",
    "PSO_POPULATION = 100\n",
    "PSO_NB_ITER    = 100"
   ]
  },
  {
   "cell_type": "code",
   "execution_count": 4,
   "metadata": {},
   "outputs": [],
   "source": [
    "def get_asset_returns(asset):\n",
    "    \"\"\"\n",
    "    get complete return time serie for an asset\n",
    "    \"\"\"\n",
    "    returns = []\n",
    "\n",
    "    prev_date = datetime.strptime(BEG_OF_TIME, '%Y-%m-%d').date() - timedelta(days=1)\n",
    "    prev_value = 0.0\n",
    "\n",
    "    for i, values in enumerate(asset[\"values\"]):\n",
    "        current_date = datetime.strptime(values[\"date\"], '%Y-%m-%d').date()\n",
    "\n",
    "        nb_days = (current_date - prev_date).days\n",
    "        diff = (values[\"return\"] - prev_value) / nb_days\n",
    "\n",
    "        for i in range(nb_days - 1):\n",
    "            returns.append(prev_value)\n",
    "        returns.append(values[\"return\"])\n",
    "\n",
    "        prev_value = values[\"return\"]\n",
    "        prev_date = current_date\n",
    "\n",
    "    return returns"
   ]
  },
  {
   "cell_type": "code",
   "execution_count": 5,
   "metadata": {},
   "outputs": [],
   "source": [
    "def plot_history(history):\n",
    "    plt.plot(history)\n",
    "    plt.ylabel('fitness')\n",
    "    plt.xlabel('iteration')\n",
    "    plt.title('Evolution of fitnesss')\n",
    "    plt.show()"
   ]
  },
  {
   "cell_type": "code",
   "execution_count": 6,
   "metadata": {},
   "outputs": [],
   "source": [
    "def check_constraints(best_particle, nb_funds):\n",
    "    stock_perc = np.sum(best_particle[nb_funds:])\n",
    "\n",
    "    nav_ok = np.all(np.logical_and(\n",
    "        np.logical_or(best_particle == 0, best_particle >= 0.01),\n",
    "        best_particle < 0.1,\n",
    "    ))\n",
    "\n",
    "    nb_assets = np.sum(best_particle >= 0.01)\n",
    "\n",
    "    print(f\"[{'OK' if stock_perc > 0.5 else 'KO'}] Stock %: {stock_perc:.2f}\")\n",
    "    print(f\"[{'OK' if nav_ok else 'KO'}] %Nav\")\n",
    "    print(f\"[{'OK' if nb_assets > 15 else 'KO'}] Asset count: {nb_assets}\")"
   ]
  },
  {
   "cell_type": "markdown",
   "metadata": {},
   "source": [
    "## Preprocessing"
   ]
  },
  {
   "cell_type": "markdown",
   "metadata": {},
   "source": [
    "### Load assets & get returns time series"
   ]
  },
  {
   "cell_type": "code",
   "execution_count": 7,
   "metadata": {},
   "outputs": [],
   "source": [
    "asset_dict, portfolio_id = Jump().get_all_assets(\"assets_cache.json\")\n",
    "\n",
    "keys = list(asset_dict.keys())\n",
    "assets = list(asset_dict.values())\n",
    "\n",
    "returns_list = []\n",
    "\n",
    "for _, asset in asset_dict.items():\n",
    "    returns = get_asset_returns(asset)\n",
    "    returns_list.append(returns)\n",
    "\n",
    "returns_list = np.array(returns_list)"
   ]
  },
  {
   "cell_type": "markdown",
   "metadata": {},
   "source": [
    "### Split funds and stocks"
   ]
  },
  {
   "cell_type": "code",
   "execution_count": 8,
   "metadata": {},
   "outputs": [
    {
     "data": {
      "text/plain": [
       "(137, 341)"
      ]
     },
     "execution_count": 8,
     "metadata": {},
     "output_type": "execute_result"
    }
   ],
   "source": [
    "funds_keys = []\n",
    "stock_keys = []\n",
    "\n",
    "funds_returns = []\n",
    "stock_returns = []\n",
    "\n",
    "funds_real_count = []\n",
    "funds_price = []\n",
    "stock_price = []\n",
    "\n",
    "#FIXME: there is also one asset with type PORTFOLIO. What to do with it?\n",
    "for i, (k, v) in enumerate(asset_dict.items()):\n",
    "    if v[\"type\"] in (\"ETF FUND\", \"FUND\", \"INDEX\"):\n",
    "        funds_keys.append(k)\n",
    "        funds_returns.append(returns_list[i])\n",
    "        # FIXME we should probably take first close ?\n",
    "        funds_price.append(v['last_close_usd'])\n",
    "        funds_real_count.append(1)\n",
    "\n",
    "        # FIXME funds decimalisation: need to divide price and count\n",
    "\n",
    "    elif v[\"type\"] in (\"STOCK\",):\n",
    "        stock_keys.append(k)\n",
    "        stock_returns.append(returns_list[i])\n",
    "\n",
    "        # FIXME we should probably take first close ?\n",
    "        stock_price.append(v['last_close_usd'])\n",
    "\n",
    "len(funds_keys), len(stock_keys)"
   ]
  },
  {
   "cell_type": "markdown",
   "metadata": {},
   "source": [
    "### Get values for PSO"
   ]
  },
  {
   "cell_type": "code",
   "execution_count": 9,
   "metadata": {},
   "outputs": [],
   "source": [
    "funds_covariance = np.cov(funds_returns)\n",
    "stock_covariance = np.cov(stock_returns)\n",
    "\n",
    "funds_values = np.mean(funds_returns, axis=1)\n",
    "stock_values = np.mean(stock_returns, axis=1)"
   ]
  },
  {
   "cell_type": "markdown",
   "metadata": {},
   "source": [
    "## Run PSO for stocks"
   ]
  },
  {
   "cell_type": "code",
   "execution_count": 10,
   "metadata": {},
   "outputs": [],
   "source": [
    "StockPSO = ParticleSwarmOptimizer(\n",
    "    population_size=PSO_POPULATION,\n",
    "    hyperparameters=PSO_HP,\n",
    "    constraints=PSOConstraints(\n",
    "        n_var = len(stock_values),\n",
    "        var_min = 0.02,\n",
    "        var_max = 0.20,\n",
    "        min_diff_titles = 8,\n",
    "    ),\n",
    "    values=stock_values,\n",
    "    covariance_matrix=stock_covariance,\n",
    ")"
   ]
  },
  {
   "cell_type": "code",
   "execution_count": 11,
   "metadata": {},
   "outputs": [
    {
     "data": {
      "application/vnd.jupyter.widget-view+json": {
       "model_id": "40cd93fa4f344b3d9908a72ac7bf3db1",
       "version_major": 2,
       "version_minor": 0
      },
      "text/plain": [
       "HBox(children=(FloatProgress(value=0.0, max=33300.0), HTML(value='')))"
      ]
     },
     "metadata": {},
     "output_type": "display_data"
    },
    {
     "name": "stdout",
     "output_type": "stream",
     "text": [
      "\n"
     ]
    }
   ],
   "source": [
    "best_stock_particle, history = StockPSO.run(PSO_NB_ITER)"
   ]
  },
  {
   "cell_type": "code",
   "execution_count": 12,
   "metadata": {},
   "outputs": [
    {
     "data": {
      "image/png": "[encoded data removed]",
      "text/plain": [
       "<Figure size 432x288 with 1 Axes>"
      ]
     },
     "metadata": {
      "needs_background": "light"
     },
     "output_type": "display_data"
    }
   ],
   "source": [
    "plot_history(history)"
   ]
  },
  {
   "cell_type": "markdown",
   "metadata": {},
   "source": [
    "## Run PSO for funds"
   ]
  },
  {
   "cell_type": "code",
   "execution_count": 13,
   "metadata": {},
   "outputs": [],
   "source": [
    "FundsPSO = ParticleSwarmOptimizer(\n",
    "    population_size=PSO_POPULATION,\n",
    "    hyperparameters=PSO_HP,\n",
    "    constraints=PSOConstraints(\n",
    "        n_var = len(funds_values),\n",
    "        var_min = 0.02,\n",
    "        var_max = 0.20,\n",
    "        min_diff_titles = 8,\n",
    "    ),\n",
    "    values=funds_values,\n",
    "    covariance_matrix=funds_covariance,\n",
    ")"
   ]
  },
  {
   "cell_type": "code",
   "execution_count": 14,
   "metadata": {},
   "outputs": [
    {
     "data": {
      "application/vnd.jupyter.widget-view+json": {
       "model_id": "8adff88d93e34bd880ecf4651e096d0c",
       "version_major": 2,
       "version_minor": 0
      },
      "text/plain": [
       "HBox(children=(FloatProgress(value=0.0, max=12900.0), HTML(value='')))"
      ]
     },
     "metadata": {},
     "output_type": "display_data"
    },
    {
     "name": "stdout",
     "output_type": "stream",
     "text": [
      "\n"
     ]
    }
   ],
   "source": [
    "best_funds_particle, history = FundsPSO.run(PSO_NB_ITER)"
   ]
  },
  {
   "cell_type": "code",
   "execution_count": 15,
   "metadata": {},
   "outputs": [
    {
     "data": {
      "image/png": "[encoded data removed]",
      "text/plain": [
       "<Figure size 432x288 with 1 Axes>"
      ]
     },
     "metadata": {
      "needs_background": "light"
     },
     "output_type": "display_data"
    }
   ],
   "source": [
    "plot_history(history)"
   ]
  },
  {
   "cell_type": "markdown",
   "metadata": {},
   "source": [
    "# Construct complete portfolio"
   ]
  },
  {
   "cell_type": "code",
   "execution_count": 16,
   "metadata": {},
   "outputs": [],
   "source": [
    "returns = np.concatenate((funds_returns, stock_returns))\n",
    "values = np.mean(returns, axis=1)\n",
    "covariance = np.cov(returns)\n",
    "prices = np.concatenate((funds_price, stock_price))\n",
    "real_counts = np.concatenate((funds_real_count, np.ones(len(stock_price))))\n",
    "\n",
    "best_particle = np.concatenate((best_funds_particle*0.49, best_stock_particle*0.51))"
   ]
  },
  {
   "cell_type": "markdown",
   "metadata": {},
   "source": [
    "#### Check if constraints are respected"
   ]
  },
  {
   "cell_type": "code",
   "execution_count": 17,
   "metadata": {},
   "outputs": [
    {
     "name": "stdout",
     "output_type": "stream",
     "text": [
      "[OK] Stock %: 0.51\n",
      "[OK] %Nav\n",
      "[OK] Asset count: 18\n"
     ]
    }
   ],
   "source": [
    "check_constraints(best_particle, len(funds_returns))"
   ]
  },
  {
   "cell_type": "markdown",
   "metadata": {},
   "source": [
    "### Compute total fitness"
   ]
  },
  {
   "cell_type": "code",
   "execution_count": 18,
   "metadata": {},
   "outputs": [
    {
     "data": {
      "text/plain": [
       "95.29992859867428"
      ]
     },
     "execution_count": 18,
     "metadata": {},
     "output_type": "execute_result"
    }
   ],
   "source": [
    "TestPSO = ParticleSwarmOptimizer(\n",
    "    population_size=0,\n",
    "    hyperparameters=PSO_HP,\n",
    "    constraints=PSOConstraints(\n",
    "        n_var = len(returns),\n",
    "        var_min = 0.02,\n",
    "        var_max = 0.20,\n",
    "        min_diff_titles = 8,\n",
    "    ),\n",
    "    values=values,\n",
    "    covariance_matrix=covariance,\n",
    ")\n",
    "TestPSO.fitness(best_particle)"
   ]
  },
  {
   "cell_type": "markdown",
   "metadata": {},
   "source": [
    "# Compute final portfolio"
   ]
  },
  {
   "cell_type": "code",
   "execution_count": 19,
   "metadata": {},
   "outputs": [
    {
     "data": {
      "text/plain": [
       "(344760.82638447924, 7823.328091298724)"
      ]
     },
     "execution_count": 19,
     "metadata": {},
     "output_type": "execute_result"
    }
   ],
   "source": [
    "np.max(funds_price), np.max(stock_price)"
   ]
  },
  {
   "cell_type": "code",
   "execution_count": 20,
   "metadata": {},
   "outputs": [
    {
     "data": {
      "text/plain": [
       "'102,400,000$'"
      ]
     },
     "execution_count": 20,
     "metadata": {},
     "output_type": "execute_result"
    }
   ],
   "source": [
    "def nav_to_count(total, prices, nav):\n",
    "    return ((total * nav) / prices).astype(np.int32)\n",
    "\n",
    "def count_to_nav(total, prices, count):\n",
    "    return (count * prices) / total\n",
    "\n",
    "def price_error(total, prices, nav):\n",
    "    diff = nav - count_to_nav(total, prices, nav_to_count(total, prices, nav))\n",
    "    return np.sum(np.abs(diff))\n",
    "\n",
    "total_price = 100000\n",
    "\n",
    "while price_error(total_price, prices, best_particle) > 0.001:\n",
    "    total_price *= 2\n",
    "\n",
    "portfolio_titles = nav_to_count(total_price, prices, best_particle).astype(np.int32)\n",
    "f\"{total_price:,}$\""
   ]
  },
  {
   "cell_type": "markdown",
   "metadata": {},
   "source": [
    "### Let's check if the approximation was successful"
   ]
  },
  {
   "cell_type": "code",
   "execution_count": 21,
   "metadata": {},
   "outputs": [
    {
     "data": {
      "text/plain": [
       "0.0005283250060120204"
      ]
     },
     "execution_count": 21,
     "metadata": {},
     "output_type": "execute_result"
    }
   ],
   "source": [
    "final_particle = count_to_nav(total_price, prices, portfolio_titles)\n",
    "np.max(np.abs(final_particle - best_particle))"
   ]
  },
  {
   "cell_type": "code",
   "execution_count": 22,
   "metadata": {},
   "outputs": [
    {
     "data": {
      "text/plain": [
       "95.33528340839044"
      ]
     },
     "execution_count": 22,
     "metadata": {},
     "output_type": "execute_result"
    }
   ],
   "source": [
    "TestPSO.fitness(final_particle)"
   ]
  },
  {
   "cell_type": "code",
   "execution_count": 23,
   "metadata": {},
   "outputs": [
    {
     "name": "stdout",
     "output_type": "stream",
     "text": [
      "[OK] Stock %: 0.51\n",
      "[OK] %Nav\n",
      "[OK] Asset count: 18\n"
     ]
    }
   ],
   "source": [
    "check_constraints(final_particle, len(funds_returns))"
   ]
  },
  {
   "cell_type": "markdown",
   "metadata": {},
   "source": [
    "### Compute real portfolio"
   ]
  },
  {
   "cell_type": "code",
   "execution_count": 24,
   "metadata": {},
   "outputs": [
    {
     "data": {
      "text/plain": [
       "{'2130': 347363.0,\n",
       " '2164': 120885.0,\n",
       " '1500': 4852.0,\n",
       " '1519': 23460.0,\n",
       " '1538': 64626.0,\n",
       " '2190': 31233.0,\n",
       " '1597': 246.0,\n",
       " '1732': 65.0,\n",
       " '1745': 28956.0,\n",
       " '2066': 23766.0,\n",
       " '1475': 249957.0,\n",
       " '2004': 687922.0,\n",
       " '2024': 894.0,\n",
       " '1571': 36973.0,\n",
       " '1577': 413904.0,\n",
       " '1595': 15408.0,\n",
       " '2115': 44175.0,\n",
       " '1772': 87931.0}"
      ]
     },
     "execution_count": 24,
     "metadata": {},
     "output_type": "execute_result"
    }
   ],
   "source": [
    "# funds decimalisation\n",
    "final_portfolio_counts = portfolio_titles * real_counts\n",
    "\n",
    "# back to IDs!\n",
    "final_portfolio = {}\n",
    "keys = np.concatenate((funds_keys, stock_keys))\n",
    "\n",
    "for i, v in enumerate(final_portfolio_counts):\n",
    "    if v == 0:\n",
    "        continue\n",
    "\n",
    "    final_portfolio[keys[i]] = v\n",
    "\n",
    "final_portfolio"
   ]
  },
  {
   "cell_type": "markdown",
   "metadata": {},
   "source": [
    "# Upload portfolio"
   ]
  },
  {
   "cell_type": "code",
   "execution_count": null,
   "metadata": {},
   "outputs": [],
   "source": []
  }
 ],
 "metadata": {
  "kernelspec": {
   "display_name": "Python 3",
   "language": "python",
   "name": "python3"
  },
  "language_info": {
   "codemirror_mode": {
    "name": "ipython",
    "version": 3
   },
   "file_extension": ".py",
   "mimetype": "text/x-python",
   "name": "python",
   "nbconvert_exporter": "python",
   "pygments_lexer": "ipython3",
   "version": "3.8.6"
  }
 },
 "nbformat": 4,
 "nbformat_minor": 4
}
