{
 "cells": [
  {
   "cell_type": "code",
   "execution_count": 49,
   "metadata": {},
   "outputs": [
    {
     "name": "stdout",
     "output_type": "stream",
     "text": [
      "env: API_USER=EPITA_GROUPE1\n",
      "env: API_PASSWORD=uV8Zd9Fm2hq9Ld4b\n"
     ]
    }
   ],
   "source": [
    "# REMOVE ME BEFORE COMMIT !!!!\n",
    "\n",
    "%env API_USER=EPITA_GROUPE1\n",
    "%env API_PASSWORD=uV8Zd9Fm2hq9Ld4b"
   ]
  },
  {
   "cell_type": "code",
   "execution_count": 50,
   "metadata": {},
   "outputs": [],
   "source": [
    "import os\n",
    "import json\n",
    "\n",
    "import numpy as np\n",
    "\n",
    "from datetime import date, datetime, timedelta\n",
    "import matplotlib.pyplot as plt"
   ]
  },
  {
   "cell_type": "code",
   "execution_count": 51,
   "metadata": {},
   "outputs": [],
   "source": [
    "from src.jump import Jump\n",
    "from pso import *"
   ]
  },
  {
   "cell_type": "code",
   "execution_count": 108,
   "metadata": {},
   "outputs": [],
   "source": [
    "BEG_OF_TIME = '2016-06-01'\n",
    "END_OF_TIME = '2020-09-30'\n",
    "\n",
    "PSO_HP = PSOHyperparameters(\n",
    "    inertia = 0.09,\n",
    "    inertia_dampening = 0.99,\n",
    "    cognitive_acceleration = 1.0,\n",
    "    social_acceleration = 1.0,\n",
    ")\n",
    "\n",
    "PSO_POPULATION = 100\n",
    "PSO_NB_ITER    = 100"
   ]
  },
  {
   "cell_type": "code",
   "execution_count": 53,
   "metadata": {},
   "outputs": [],
   "source": [
    "def get_asset_returns_and_values(asset):\n",
    "    \"\"\"\n",
    "    get complete return time serie for an asset HOUK HOUK of nav instead of values ooga booga\n",
    "    \"\"\"\n",
    "    returns = []\n",
    "    values_list = []\n",
    "\n",
    "    beg_date  = datetime.strptime(BEG_OF_TIME, '%Y-%m-%d').date()\n",
    "    prev_date = beg_date - timedelta(days=32)\n",
    "    prev_return, prev_value = 0.0, 0.0\n",
    "\n",
    "    first_return = None\n",
    "\n",
    "    def add_value(current_date, val):\n",
    "        if current_date >= beg_date:\n",
    "            values_list.append(val)\n",
    "    \n",
    "    def add_return(current_date, ret):\n",
    "        if current_date >= beg_date:\n",
    "            returns.append(ret)\n",
    "\n",
    "    for i, values in enumerate(asset[\"values\"]):\n",
    "        current_date = datetime.strptime(values[\"date\"], '%Y-%m-%d').date()\n",
    "        \n",
    "        if current_date <= beg_date:\n",
    "            first_return = current_date\n",
    "        \n",
    "        nb_days = (current_date - prev_date).days\n",
    "\n",
    "        for i in range(nb_days - 1):\n",
    "            add_return(prev_date + timedelta(days=i+1), prev_return)\n",
    "            add_value(prev_date + timedelta(days=i+1), prev_value)\n",
    "        add_value(current_date, values[\"values_usd\"][\"nav\"])\n",
    "        add_return(current_date, values[\"return\"])\n",
    "\n",
    "        prev_value = values[\"values_usd\"][\"nav\"]\n",
    "        prev_return = values[\"return\"]\n",
    "        prev_date = current_date\n",
    "\n",
    "    return first_return, returns, values_list"
   ]
  },
  {
   "cell_type": "code",
   "execution_count": 54,
   "metadata": {},
   "outputs": [],
   "source": [
    "def plot_history(history):\n",
    "    plt.plot(history)\n",
    "    plt.ylabel('fitness')\n",
    "    plt.xlabel('iteration')\n",
    "    plt.title('Evolution of fitnesss')\n",
    "    plt.show()"
   ]
  },
  {
   "cell_type": "code",
   "execution_count": 55,
   "metadata": {},
   "outputs": [],
   "source": [
    "def check_constraints(best_particle, nb_funds):\n",
    "    stock_perc = np.sum(best_particle[nb_funds:])\n",
    "\n",
    "    nav_ok = np.all(np.logical_and(\n",
    "        np.logical_or(best_particle == 0, best_particle >= 0.01),\n",
    "        best_particle < 0.1,\n",
    "    ))\n",
    "\n",
    "    nb_assets = np.sum(best_particle >= 0.01)\n",
    "\n",
    "    print(f\"[{'OK' if stock_perc > 0.5 else 'KO'}] Stock %: {stock_perc:.2f}\")\n",
    "    print(f\"[{'OK' if nav_ok else 'KO'}] %Nav\")\n",
    "    print(f\"[{'OK' if nb_assets > 15 else 'KO'}] Asset count: {nb_assets}\")"
   ]
  },
  {
   "cell_type": "markdown",
   "metadata": {},
   "source": [
    "## Preprocessing"
   ]
  },
  {
   "cell_type": "markdown",
   "metadata": {},
   "source": [
    "### Load assets & get returns time series"
   ]
  },
  {
   "cell_type": "code",
   "execution_count": 56,
   "metadata": {},
   "outputs": [
    {
     "name": "stderr",
     "output_type": "stream",
     "text": [
      "100%|████████████████████████████████████████████████████████████████████████████████| 480/480 [03:04<00:00,  2.60it/s]\n"
     ]
    },
    {
     "name": "stdout",
     "output_type": "stream",
     "text": [
      "Drop id=2124 , date=2018-10-22      name=29 HAUSSMANN EQUILIBRE\n",
      "Drop id=1428 , date=2018-10-22      name=AAA - ACTIONS AGRO ALIM.I FCP\n",
      "Drop id=2155 , date=2018-10-22      name=ABERDEEN FUNDS GLOBAL PHARMA EQUITY - A\n",
      "Drop id=2125 , date=2018-10-22      name=ABERDEEN GLOBAL ASIA PACIFIC EQUITY E2\n",
      "Drop id=2126 , date=2018-10-22      name=ABERDEEN GLOBAL - ASIA PACIFIC EQU - X ACC (EUR)\n",
      "Drop id=2130 , date=2018-10-22      name=ACA - HORIZON MONDE (EUR)\n",
      "Drop id=1855 , date=2017-05-10      name=ADOMOS\n",
      "Drop id=1867 , date=2018-10-22      name=ALLIANZ SE-VINK\n",
      "Drop id=1904 , date=2017-10-25      name=BANCA MONTE DEI\n",
      "Drop id=1954 , date=2016-07-20      name=CGG\n",
      "Drop id=1955 , date=2018-06-14      name=CGGVERITAS\n",
      "Drop id=1957 , date=2016-06-10      name=CHAUSSERIA\n",
      "Drop id=1488 , date=2016-08-26      name=CPR-SILVER AGE-I\n",
      "Drop id=1974 , date=2016-10-26      name=CYBERGUN\n",
      "Drop id=2087 , date=2018-10-22      name=DELL INC\n",
      "Drop id=2048 , date=2018-10-22      name=FRESENIUS MEDICA\n",
      "Drop id=2049 , date=2018-10-22      name=FRESENIUS SE & C\n"
     ]
    }
   ],
   "source": [
    "asset_dict = Jump().get_all_assets(\"assets_cache.json\", start_date=\"2016-05-01\")\n",
    "\n",
    "returns_list = []\n",
    "values_list = []\n",
    "to_del = []\n",
    "first_returns = {}\n",
    "\n",
    "for k, asset in asset_dict.items():\n",
    "    first_return, returns, values = get_asset_returns_and_values(asset)\n",
    "\n",
    "    if first_return is None:\n",
    "        label = asset[\"label\"]\n",
    "        fdate = asset[\"values\"][0][\"date\"]\n",
    "\n",
    "        print(f\"Drop id={k:5}, date={fdate:15} name={label}\")\n",
    "        to_del.append(k)\n",
    "    else:\n",
    "        first_returns[k] = first_return\n",
    "        returns_list.append(returns)\n",
    "        values_list.append(values)\n",
    "\n",
    "for td in to_del:\n",
    "    del asset_dict[td]\n",
    "        \n",
    "returns_list, values_list = np.array(returns_list), np.array(values_list)"
   ]
  },
  {
   "cell_type": "markdown",
   "metadata": {},
   "source": [
    "### Split funds and stocks"
   ]
  },
  {
   "cell_type": "code",
   "execution_count": 76,
   "metadata": {},
   "outputs": [
    {
     "name": "stdout",
     "output_type": "stream",
     "text": [
      "k: 1820 label: EPITA_PTF_1\n",
      "k: 2201 label: REF\n"
     ]
    },
    {
     "data": {
      "text/plain": [
       "(130, 331)"
      ]
     },
     "execution_count": 76,
     "metadata": {},
     "output_type": "execute_result"
    }
   ],
   "source": [
    "funds_keys = []\n",
    "stock_keys = []\n",
    "\n",
    "funds_returns = []\n",
    "stock_returns = []\n",
    "\n",
    "funds_values, stock_values = [], []\n",
    "\n",
    "funds_real_count = []\n",
    "funds_price = []\n",
    "stock_price = []\n",
    "\n",
    "ref_portfolio = None\n",
    "our_portfolio = None\n",
    "\n",
    "for i, (k, v) in enumerate(asset_dict.items()):\n",
    "    if v[\"type\"] in (\"ETF FUND\", \"FUND\", \"INDEX\"):\n",
    "        nav = v[\"values\"][0][\"values_usd\"][\"nav\"]\n",
    "\n",
    "        funds_keys.append(k)\n",
    "        funds_returns.append(returns_list[i])\n",
    "        funds_values.append(values_list[i])\n",
    "        funds_price.append(nav)\n",
    "        funds_real_count.append(1)\n",
    "        # FIXME funds decimalisation: need to divide price and count\n",
    "\n",
    "    elif v[\"type\"] in (\"STOCK\",):\n",
    "        nav = v[\"values\"][0][\"values_usd\"][\"nav\"]\n",
    "\n",
    "        stock_keys.append(k)\n",
    "        stock_returns.append(returns_list[i])\n",
    "        stock_values.append(values_list[i])\n",
    "        stock_price.append(nav)\n",
    "\n",
    "    elif v[\"type\"] in (\"PORTFOLIO\",\"LOUCHE\"):\n",
    "        print(f\"k: {k} label: {v['label']}\")\n",
    "        if v[\"label\"] == \"REF\":\n",
    "            ref_portfolio = k, v\n",
    "        else:\n",
    "            our_portfolio = k, v\n",
    "\n",
    "funds_returns, stock_returns = np.array(funds_returns), np.array(stock_returns)\n",
    "funds_values, stock_values = np.array(funds_values), np.array(stock_values)\n",
    "len(funds_keys), len(stock_keys)"
   ]
  },
  {
   "cell_type": "markdown",
   "metadata": {},
   "source": [
    "### Get values for PSO"
   ]
  },
  {
   "cell_type": "code",
   "execution_count": 109,
   "metadata": {},
   "outputs": [],
   "source": [
    "funds_std = np.std(funds_returns, axis=1)\n",
    "stock_std = np.std(stock_returns, axis=1)\n",
    "\n",
    "#funds_values = np.mean(funds_returns, axis=1)\n",
    "#stock_values = np.mean(stock_returns, axis=1)\n",
    "\n",
    "#print(fund_returns[:, -1])\n",
    "\n",
    "def compute_returns(value):\n",
    "    first_value, last_value = value[:, 0], value[:, -1]\n",
    "    nb_days = value.shape[1]\n",
    "    return (1 + (last_value - first_value) / first_value) ** (365 / nb_days) - 1\n",
    "\n",
    "funds_ob_returns, stocks_ob_returns = compute_returns(funds_values), compute_returns(stock_values)"
   ]
  },
  {
   "cell_type": "markdown",
   "metadata": {},
   "source": [
    "## Run PSO for stocks"
   ]
  },
  {
   "cell_type": "code",
   "execution_count": 110,
   "metadata": {},
   "outputs": [],
   "source": [
    "StockPSO = ParticleSwarmOptimizer(\n",
    "    population_size=PSO_POPULATION,\n",
    "    hyperparameters=PSO_HP,\n",
    "    constraints=PSOConstraints(\n",
    "        n_var = len(stock_values),\n",
    "        var_min = 0.02,\n",
    "        var_max = 0.20,\n",
    "        min_diff_titles = 8,\n",
    "    ),\n",
    "    values=stocks_ob_returns,\n",
    "    std=stock_std,\n",
    ")"
   ]
  },
  {
   "cell_type": "code",
   "execution_count": 111,
   "metadata": {},
   "outputs": [
    {
     "data": {
      "application/vnd.jupyter.widget-view+json": {
       "model_id": "bc9fa06733e14b75ad046b6f67facef6",
       "version_major": 2,
       "version_minor": 0
      },
      "text/plain": [
       "HBox(children=(FloatProgress(value=0.0, max=32300.0), HTML(value='')))"
      ]
     },
     "metadata": {},
     "output_type": "display_data"
    },
    {
     "name": "stdout",
     "output_type": "stream",
     "text": [
      "\n"
     ]
    }
   ],
   "source": [
    "best_stock_particle, history = StockPSO.run(PSO_NB_ITER)"
   ]
  },
  {
   "cell_type": "code",
   "execution_count": 93,
   "metadata": {},
   "outputs": [
    {
     "data": {
      "image/png": "[encoded data removed]",
      "text/plain": [
       "<Figure size 432x288 with 1 Axes>"
      ]
     },
     "metadata": {
      "needs_background": "light"
     },
     "output_type": "display_data"
    }
   ],
   "source": [
    "plot_history(history)"
   ]
  },
  {
   "cell_type": "markdown",
   "metadata": {},
   "source": [
    "## Run PSO for funds"
   ]
  },
  {
   "cell_type": "code",
   "execution_count": 94,
   "metadata": {},
   "outputs": [],
   "source": [
    "FundsPSO = ParticleSwarmOptimizer(\n",
    "    population_size=PSO_POPULATION,\n",
    "    hyperparameters=PSO_HP,\n",
    "    constraints=PSOConstraints(\n",
    "        n_var = len(funds_values),\n",
    "        var_min = 0.02,\n",
    "        var_max = 0.20,\n",
    "        min_diff_titles = 8,\n",
    "    ),\n",
    "    values=funds_ob_returns,\n",
    "    std=funds_std,\n",
    ")"
   ]
  },
  {
   "cell_type": "code",
   "execution_count": 95,
   "metadata": {},
   "outputs": [
    {
     "data": {
      "application/vnd.jupyter.widget-view+json": {
       "model_id": "1b536c69fc034e59b6671ce0fb631a51",
       "version_major": 2,
       "version_minor": 0
      },
      "text/plain": [
       "HBox(children=(FloatProgress(value=0.0, max=62464.0), HTML(value='')))"
      ]
     },
     "metadata": {},
     "output_type": "display_data"
    },
    {
     "name": "stdout",
     "output_type": "stream",
     "text": [
      "\n"
     ]
    }
   ],
   "source": [
    "best_funds_particle, history = FundsPSO.run(PSO_NB_ITER)"
   ]
  },
  {
   "cell_type": "code",
   "execution_count": 96,
   "metadata": {},
   "outputs": [
    {
     "data": {
      "image/png": "[encoded data removed]",
      "text/plain": [
       "<Figure size 432x288 with 1 Axes>"
      ]
     },
     "metadata": {
      "needs_background": "light"
     },
     "output_type": "display_data"
    }
   ],
   "source": [
    "plot_history(history)"
   ]
  },
  {
   "cell_type": "markdown",
   "metadata": {},
   "source": [
    "# Construct complete portfolio"
   ]
  },
  {
   "cell_type": "code",
   "execution_count": 97,
   "metadata": {},
   "outputs": [],
   "source": [
    "returns = np.concatenate((funds_returns, stock_returns))\n",
    "ob_returns = np.concatenate((funds_ob_returns, stocks_ob_returns))\n",
    "std = np.std(returns, axis=1)\n",
    "prices = np.concatenate((funds_price, stock_price))\n",
    "real_counts = np.concatenate((funds_real_count, np.ones(len(stock_price))))\n",
    "\n",
    "best_particle = np.concatenate((best_funds_particle*0.49, best_stock_particle*0.51))"
   ]
  },
  {
   "cell_type": "markdown",
   "metadata": {},
   "source": [
    "#### Check if constraints are respected"
   ]
  },
  {
   "cell_type": "code",
   "execution_count": 98,
   "metadata": {},
   "outputs": [
    {
     "name": "stdout",
     "output_type": "stream",
     "text": [
      "[OK] Stock %: 0.51\n",
      "[OK] %Nav\n",
      "[OK] Asset count: 18\n"
     ]
    }
   ],
   "source": [
    "check_constraints(best_particle, len(funds_returns))"
   ]
  },
  {
   "cell_type": "markdown",
   "metadata": {},
   "source": [
    "### Compute total fitness"
   ]
  },
  {
   "cell_type": "code",
   "execution_count": 99,
   "metadata": {},
   "outputs": [
    {
     "data": {
      "text/plain": [
       "19.594423113729697"
      ]
     },
     "execution_count": 99,
     "metadata": {},
     "output_type": "execute_result"
    }
   ],
   "source": [
    "TestPSO = ParticleSwarmOptimizer(\n",
    "    population_size=0,\n",
    "    hyperparameters=PSO_HP,\n",
    "    constraints=PSOConstraints(\n",
    "        n_var = len(returns),\n",
    "        var_min = 0.02,\n",
    "        var_max = 0.20,\n",
    "        min_diff_titles = 8,\n",
    "    ),\n",
    "    values=ob_returns,\n",
    "    std=std,\n",
    ")\n",
    "TestPSO.fitness(best_particle)"
   ]
  },
  {
   "cell_type": "markdown",
   "metadata": {},
   "source": [
    "# Compute final portfolio"
   ]
  },
  {
   "cell_type": "code",
   "execution_count": 100,
   "metadata": {},
   "outputs": [
    {
     "data": {
      "text/plain": [
       "(218797.41285, 5182.900431)"
      ]
     },
     "execution_count": 100,
     "metadata": {},
     "output_type": "execute_result"
    }
   ],
   "source": [
    "np.max(funds_price), np.max(stock_price)"
   ]
  },
  {
   "cell_type": "code",
   "execution_count": 101,
   "metadata": {},
   "outputs": [
    {
     "data": {
      "text/plain": [
       "'204,800,000$'"
      ]
     },
     "execution_count": 101,
     "metadata": {},
     "output_type": "execute_result"
    }
   ],
   "source": [
    "def nav_to_count(total, prices, nav):\n",
    "    return ((total * nav) / prices).astype(np.int32)\n",
    "\n",
    "def count_to_nav(total, prices, count):\n",
    "    return (count * prices) / total\n",
    "\n",
    "def price_error(total, prices, nav):\n",
    "    diff = nav - count_to_nav(total, prices, nav_to_count(total, prices, nav))\n",
    "    return np.sum(np.abs(diff))\n",
    "\n",
    "total_price = 100000\n",
    "\n",
    "while price_error(total_price, prices, best_particle) > 0.001:\n",
    "    total_price *= 2\n",
    "\n",
    "portfolio_titles = nav_to_count(total_price, prices, best_particle).astype(np.int32)\n",
    "f\"{total_price:,}$\""
   ]
  },
  {
   "cell_type": "markdown",
   "metadata": {},
   "source": [
    "### Let's check if the approximation was successful"
   ]
  },
  {
   "cell_type": "code",
   "execution_count": 102,
   "metadata": {},
   "outputs": [
    {
     "data": {
      "text/plain": [
       "0.00037394345382417427"
      ]
     },
     "execution_count": 102,
     "metadata": {},
     "output_type": "execute_result"
    }
   ],
   "source": [
    "final_particle = count_to_nav(total_price, prices, portfolio_titles)\n",
    "np.max(np.abs(final_particle - best_particle))"
   ]
  },
  {
   "cell_type": "code",
   "execution_count": 103,
   "metadata": {},
   "outputs": [
    {
     "data": {
      "text/plain": [
       "19.59389813253974"
      ]
     },
     "execution_count": 103,
     "metadata": {},
     "output_type": "execute_result"
    }
   ],
   "source": [
    "TestPSO.fitness(final_particle)"
   ]
  },
  {
   "cell_type": "code",
   "execution_count": 104,
   "metadata": {},
   "outputs": [
    {
     "name": "stdout",
     "output_type": "stream",
     "text": [
      "[OK] Stock %: 0.51\n",
      "[OK] %Nav\n",
      "[OK] Asset count: 18\n"
     ]
    }
   ],
   "source": [
    "check_constraints(final_particle, len(funds_returns))"
   ]
  },
  {
   "cell_type": "markdown",
   "metadata": {},
   "source": [
    "### Compute real portfolio"
   ]
  },
  {
   "cell_type": "code",
   "execution_count": 105,
   "metadata": {},
   "outputs": [
    {
     "data": {
      "text/plain": [
       "{'2016-06-01': [{'asset': {'asset': 2122, 'quantity': 80017}},\n",
       "  {'asset': {'asset': 2154, 'quantity': 886433}},\n",
       "  {'asset': {'asset': 2139, 'quantity': 47158}},\n",
       "  {'asset': {'asset': 2145, 'quantity': 30218}},\n",
       "  {'asset': {'asset': 1484, 'quantity': 16246}},\n",
       "  {'asset': {'asset': 1485, 'quantity': 107}},\n",
       "  {'asset': {'asset': 1590, 'quantity': 533215}},\n",
       "  {'asset': {'asset': 2161, 'quantity': 257653}},\n",
       "  {'asset': {'asset': 2195, 'quantity': 4549}},\n",
       "  {'asset': {'asset': 2062, 'quantity': 145273}},\n",
       "  {'asset': {'asset': 1990, 'quantity': 133386}},\n",
       "  {'asset': {'asset': 2024, 'quantity': 161703}},\n",
       "  {'asset': {'asset': 2026, 'quantity': 363529}},\n",
       "  {'asset': {'asset': 2023, 'quantity': 42800953}},\n",
       "  {'asset': {'asset': 2094, 'quantity': 1235606}},\n",
       "  {'asset': {'asset': 1571, 'quantity': 118076}},\n",
       "  {'asset': {'asset': 1619, 'quantity': 2392443}},\n",
       "  {'asset': {'asset': 1731, 'quantity': 59175}}]}"
      ]
     },
     "execution_count": 105,
     "metadata": {},
     "output_type": "execute_result"
    }
   ],
   "source": [
    "# funds decimalisation\n",
    "final_portfolio_counts = portfolio_titles * real_counts\n",
    "\n",
    "# back to IDs!\n",
    "final_portfolio = {}\n",
    "keys = np.concatenate((funds_keys, stock_keys))\n",
    "\n",
    "for i, v in enumerate(final_portfolio_counts):\n",
    "    if v == 0:\n",
    "        continue\n",
    "\n",
    "    asset = asset_dict[keys[i]]\n",
    "    date = BEG_OF_TIME #str(first_returns[keys[i]])\n",
    "\n",
    "    final_portfolio.setdefault(date, []).append({\n",
    "        \"asset\": {\n",
    "            \"asset\": int(keys[i]),\n",
    "            \"quantity\": int(v),\n",
    "        }\n",
    "    })\n",
    "\n",
    "final_portfolio"
   ]
  },
  {
   "cell_type": "markdown",
   "metadata": {},
   "source": [
    "# Upload portfolio"
   ]
  },
  {
   "cell_type": "code",
   "execution_count": 106,
   "metadata": {},
   "outputs": [
    {
     "data": {
      "text/plain": [
       "<Response [200]>"
      ]
     },
     "execution_count": 106,
     "metadata": {},
     "output_type": "execute_result"
    }
   ],
   "source": [
    "portfolio_obj = {\n",
    "    \"label\": \"EPITA_PTF_1\",\n",
    "    \"currency\": {\n",
    "        \"code\": \"EUR\"\n",
    "    },\n",
    "    \"type\": \"front\",\n",
    "    \"values\": final_portfolio,\n",
    "}\n",
    "\n",
    "# Do it two times because the API is broken\n",
    "Jump().update_portfolio(our_portfolio[0], portfolio_obj)\n",
    "Jump().update_portfolio(our_portfolio[0], portfolio_obj)"
   ]
  },
  {
   "cell_type": "markdown",
   "metadata": {},
   "source": [
    "### Check sharp ratio"
   ]
  },
  {
   "cell_type": "code",
   "execution_count": 107,
   "metadata": {},
   "outputs": [
    {
     "name": "stdout",
     "output_type": "stream",
     "text": [
      "Our ratio: 0,698473080293\n",
      "Ref ratio: 0,146571943186\n"
     ]
    }
   ],
   "source": [
    "results = Jump().calculate_ratio(ratio_ids=[12], asset_ids=[our_portfolio[0], ref_portfolio[0]]).json()\n",
    "\n",
    "print(f\"Our ratio: {results[our_portfolio[0]]['12']['value']}\")\n",
    "print(f\"Ref ratio: {results[ref_portfolio[0]]['12']['value']}\")"
   ]
  },
  {
   "cell_type": "code",
   "execution_count": 85,
   "metadata": {},
   "outputs": [
    {
     "data": {
      "text/plain": [
       "{'label': 'EPITA_PTF_1',\n",
       " 'currency': {'code': 'EUR'},\n",
       " 'type': 'front',\n",
       " 'values': {'2016-06-01': [{'asset': {'asset': 1573, 'quantity': 23840.0}},\n",
       "   {'asset': {'asset': 1542, 'quantity': 618.0}},\n",
       "   {'asset': {'asset': 2024, 'quantity': 174981.0}},\n",
       "   {'asset': {'asset': 2122, 'quantity': 274012.0}},\n",
       "   {'asset': {'asset': 2154, 'quantity': 769291.0}},\n",
       "   {'asset': {'asset': 2090, 'quantity': 64877.0}},\n",
       "   {'asset': {'asset': 1931, 'quantity': 73565.0}},\n",
       "   {'asset': {'asset': 2091, 'quantity': 201800.0}},\n",
       "   {'asset': {'asset': 1485, 'quantity': 99.0}},\n",
       "   {'asset': {'asset': 2062, 'quantity': 135915.0}},\n",
       "   {'asset': {'asset': 1455, 'quantity': 65249.0}},\n",
       "   {'asset': {'asset': 1519, 'quantity': 55437.0}},\n",
       "   {'asset': {'asset': 2195, 'quantity': 8093.0}},\n",
       "   {'asset': {'asset': 1619, 'quantity': 2090299.0}},\n",
       "   {'asset': {'asset': 2166, 'quantity': 1725.0}},\n",
       "   {'asset': {'asset': 2074, 'quantity': 43828.0}},\n",
       "   {'asset': {'asset': 1597, 'quantity': 322.0}},\n",
       "   {'asset': {'asset': 1918, 'quantity': 1240421.0}}]}}"
      ]
     },
     "execution_count": 85,
     "metadata": {},
     "output_type": "execute_result"
    }
   ],
   "source": [
    "Jump().get_portfolio(our_portfolio[0])"
   ]
  },
  {
   "cell_type": "code",
   "execution_count": null,
   "metadata": {},
   "outputs": [],
   "source": []
  }
 ],
 "metadata": {
  "kernelspec": {
   "display_name": "Python 3",
   "language": "python",
   "name": "python3"
  },
  "language_info": {
   "codemirror_mode": {
    "name": "ipython",
    "version": 3
   },
   "file_extension": ".py",
   "mimetype": "text/x-python",
   "name": "python",
   "nbconvert_exporter": "python",
   "pygments_lexer": "ipython3",
   "version": "3.8.2"
  }
 },
 "nbformat": 4,
 "nbformat_minor": 4
}
