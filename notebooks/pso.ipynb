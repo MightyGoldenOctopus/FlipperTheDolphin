{
 "cells": [
  {
   "cell_type": "markdown",
   "metadata": {},
   "source": [
    "# Particle Swarm Optimization (PSO) for the constrained portfolio optimization problem"
   ]
  },
  {
   "cell_type": "markdown",
   "metadata": {},
   "source": [
    "One of the most studied problems in the ﬁnancial investment expert system is the intractability of port-folios. The non-linear constrained portfolio optimization problem with multi-objective functions cannot be efﬁciently  solved  using traditionally  approaches.  This  paper  presents  a  meta-heuristic  approach  to portfolio optimization problem using Particle Swarm Optimization (PSO) technique.  The PSO model demonstrates high computational efﬁciency in constructing optimal  risky  portfolios.  Preliminary  results  show  that  the  approach  is  very  promising  and  achieves results comparable or superior with the state of the art solvers. "
   ]
  },
  {
   "cell_type": "markdown",
   "metadata": {},
   "source": [
    "## Models for portfolio optimization (PO)\n",
    "One of the fundamental principles of financial investment is the diversifications of assets types in investments portfolios, this allows for a minimization of risk exposure. It can be referred as a **multi-objective optimization problem**.\n",
    "\n",
    "There are two methods to solve this problem:\n",
    "- **Select one important objective function** as the function to optimize while the rest of objective is defined as constrained conditions. (Type 1)\n",
    "- Construct only one evalutation function for optimization by **weighting the multiple objective functions** (Type 2)"
   ]
  },
  {
   "cell_type": "markdown",
   "metadata": {},
   "source": [
    "### Markowitz mean-variance model (Type 1)\n",
    "The selection of portfolio construction is considered as one objective function and the mean return is defined as one of the constraints."
   ]
  },
  {
   "cell_type": "markdown",
   "metadata": {},
   "source": [
    "$Min\\ \\sum_{i=1}^{N} \\sum_{j=1}^{N}w_i w_j \\sigma_{ij}$"
   ]
  },
  {
   "cell_type": "markdown",
   "metadata": {},
   "source": [
    "Subject to constraints $\\sum_{i=1}^{N}w_ir_i = R^*$ and $\\sum_{i=1}^{N}w_i = 1$"
   ]
  },
  {
   "cell_type": "markdown",
   "metadata": {},
   "source": [
    "Where:\n",
    "- ***N*** is the number of different assets\n",
    "- ***$\\sigma_{ij}$*** is the covarience between returns of assets ***i*** and ***j***\n",
    "- ***$w_i$*** is the weight of each stock in the portfolio\n",
    "- ***$r_i$*** is the mean return of stick ***i***\n",
    "- ***$R^*$*** is the desired mean return of the portfolio"
   ]
  },
  {
   "cell_type": "markdown",
   "metadata": {},
   "source": [
    "### Single objective function model (Type 2)\n",
    "This second method is to construct only one evaluation function for modeling a portfolio optimization problem. Efficient Frontier and Sharpe Ratio models are described as the following:"
   ]
  },
  {
   "cell_type": "markdown",
   "metadata": {},
   "source": [
    "#### Efficient Frontier\n",
    "We can find the different objective function values by varying the desired mean return $R^*$. For this we introduce a new risk aversion parameter $\\lambda \\in [0,\\ 1]$. With this new parameter $\\lambda$, the model can be described as one objective function:"
   ]
  },
  {
   "cell_type": "markdown",
   "metadata": {},
   "source": [
    "$$Min\\ \\lambda \\left[ \\sum_{i=1}^N \\sum_{j=1}^N w_i w_j \\sigma_{ij} \\right] - (1 - \\lambda)\\left[ \\sum_{i=1}^N w_i r_i \\right]$$"
   ]
  },
  {
   "cell_type": "markdown",
   "metadata": {},
   "source": [
    "Subject to constraint $\\sum_{i=1}^N w_i = 1$"
   ]
  },
  {
   "cell_type": "markdown",
   "metadata": {},
   "source": [
    "When:\n",
    "- $\\lambda = 0$ the model **maximize the mean return** of the portfolio **regardless of the variance (risk)**\n",
    "- $\\lambda = 1$ the model **miniimizes the risk** of the portfolio **regardless of the mean return**"
   ]
  },
  {
   "cell_type": "markdown",
   "metadata": {},
   "source": [
    "#### Sharpe Ratio model\n",
    "In this paper, instead of focusing on the mean variance efficient frontier, we seek to optimize the portfolio's Sharpe Ratio (SR). The Sharpe Ratio **combines the information from mean and avariance of an asset**. It is quite simple and it is risk-adjusted measure of mean return. It is described by:"
   ]
  },
  {
   "cell_type": "markdown",
   "metadata": {},
   "source": [
    "$$SR = \\frac{R_p - R_f}{StdDev(p)}$$"
   ]
  },
  {
   "cell_type": "markdown",
   "metadata": {},
   "source": [
    "Where:\n",
    "- $p$ is the portfolio\n",
    "- $R_p$ is the mean return of the portfolio $p$\n",
    "- $R_f$ is the rate of return of a risk-free security\n",
    "- $StdDev(p)$ is the standard deviation of $R_p$, in other words it measure the **risk** of the portfolio"
   ]
  },
  {
   "cell_type": "markdown",
   "metadata": {},
   "source": [
    "By adjusting the weiights $w_i$ of the portfolio,  **we seek to maximize the portfolio Sharpe Ratio**."
   ]
  },
  {
   "cell_type": "markdown",
   "metadata": {},
   "source": [
    "## PSO for portfolio optimization\n",
    "\n",
    "### Particle Swarm Optimization"
   ]
  },
  {
   "cell_type": "markdown",
   "metadata": {},
   "source": [
    "PSO is a population based stochastic optimization technique inspired by social behavior of bird flocking.\n",
    "\n",
    "It could be explained well in an imagined scenario:\n",
    "***a group of bird are flying in an area to look for food, and there's only one piece of food in this area. Each bird in the group doesn't know the exact location of the food, but they are aware of the distance between the food and themselves. In this way, the easiest way to find the food is to follow the one who is closest to the food***.\n",
    "\n",
    "The PSO algorithm can be summed up in those steps:\n",
    "- Initialize a population of random particles with their associated position and velocity. The velocities are ajusted according to the historical behavior of each particle and its neighbors while they fly through the search space.\n",
    "- The positions are updated according the current positions and the velocities at the next step. And at each steps **all particles are accelerated toward the particle with the best fitness** (with the smallest distance of the target)."
   ]
  },
  {
   "cell_type": "markdown",
   "metadata": {},
   "source": [
    "Each particle tries to modify its position using the following information:\n",
    "- The current positions $\\vec{X}(t)$\n",
    "- The current velocities $\\vec{V}(t)$\n",
    "- The distance between the $pbest$ (point with the best value achieved by that particle) and the current position $\\vec{P_i} - \\vec{X}(t)$.\n",
    "- The distance between the $gbest$ (point with the best value achieved by any particle in the neihborhood of that particle) and the current position $\\vec{P_G} - \\vec{X}(t)$."
   ]
  },
  {
   "cell_type": "markdown",
   "metadata": {},
   "source": [
    "### Fitness function\n",
    "\n",
    "Every particle in the PSO's population have a fitness value. A particle moves in solution space with respect to its previous position where it has met the best fitness value $pbest$, and the neihbor's previous position where neihbor has met the best fitness value $gbest$.\n",
    "\n",
    "In this paper, the Share Ratio is used as a single objective function. This is defined as:"
   ]
  },
  {
   "cell_type": "markdown",
   "metadata": {},
   "source": [
    "$$\n",
    "f_p = SR = \\frac{\\sum_{i=1}^{N} w_i r_i - R_f}{\\sum_{i=1}^N \\sum_{j=1}^N w_i w_j \\sigma_{ij}}\n",
    "$$"
   ]
  },
  {
   "cell_type": "markdown",
   "metadata": {},
   "source": [
    "where $f_p$ is the **fitness value** of particle $p$.\n",
    "\n",
    "At every step, a particle's personal best position and the best neihbor in the swarm are updated if an improvement in any of the best fitness values is observed."
   ]
  },
  {
   "cell_type": "markdown",
   "metadata": {},
   "source": [
    "### Particles movement\n",
    "\n",
    "At each iteration, every particles moves towards its bpersonal best position and towards the best particle of the swarm so far. The particle movement is dependent on its current velocity and the velocity change is defined as:"
   ]
  },
  {
   "cell_type": "markdown",
   "metadata": {},
   "source": [
    "$$\n",
    "\\vec{v_{ij}}(t+1)\n",
    "=\n",
    "w\\vec{v_{ij}}(t) + c_1r_1 \\left[ \\vec{p_{ij}}(t) - \\vec{x_{ij}}(t) \\right]\n",
    "+\n",
    "c_2r_2 \\left[ \\vec{p_{Gij}}(t) - \\vec{x_{ij}}(t) \\right]\n",
    "$$"
   ]
  },
  {
   "cell_type": "markdown",
   "metadata": {},
   "source": [
    "Where:\n",
    "- $j$ is the dimnension number of particle $i$\n",
    "- $t$ is the iteration sequence\n",
    "- $c_1$ and $c_2$ are positive constanbt parameters called **acceleration coefficients**\n",
    "- $r_1$ and $r_2$ are random numbers between $(0,\\ 1)$\n",
    "- $w$ is a constant\n",
    "- $\\vec{p_{ij}}(t)$ is the current particle $i$'s best achieved position in the $j$th dimension\n",
    "- $\\vec{p_{Gij}}(t)$ is the current particle $i$'s neihgborhood best achieved position in the $j$th dimension\n",
    "- $\\vec{v_{ij}}(t+1)$ is the particle $i$'s velocity on the $j$th dimension\n",
    "\n",
    "Finally, the new position of particle $i$, is calculated as follows:"
   ]
  },
  {
   "cell_type": "markdown",
   "metadata": {},
   "source": [
    "$$\n",
    "\\vec{x_{ij}}(t+1) = \\vec{x_{ij}}(t) + \\vec{v_{ij}}(t+1)\n",
    "$$"
   ]
  },
  {
   "cell_type": "markdown",
   "metadata": {},
   "source": [
    "<img src=\"resources/pso_fig1.PNG\">"
   ]
  },
  {
   "cell_type": "markdown",
   "metadata": {},
   "source": [
    "To improves the performance of the PSO, the consstants $w$, $c_1$ and $c_2$ can be replaced by the following dynamic parameters:"
   ]
  },
  {
   "cell_type": "markdown",
   "metadata": {},
   "source": [
    "$$\n",
    "w_t = w_{max} - \\frac{w_{max} - w_{min}}{t_{max}} \\times t\n",
    "$$\n",
    "$$\n",
    "c_1 = c_{1_{max}} - \\frac{c_{1_{max}} - c_{1_{min}}}{t_{max}} \\times t\n",
    "$$\n",
    "$$\n",
    "c_2 = c_{2_{max}} - \\frac{c_{2_{max}} - c_{2_{min}}}{t_{max}} \\times t\n",
    "$$"
   ]
  },
  {
   "cell_type": "markdown",
   "metadata": {},
   "source": [
    "<img src=\"resources/pso_fig2.PNG\">"
   ]
  },
  {
   "cell_type": "markdown",
   "metadata": {},
   "source": [
    "### Constraint satisfaction\n",
    "\n",
    "There are two types of risky portfolio: **unrestricted** and **restricted**:\n",
    "- **Unrestricted** portfolio assets could have negative weights\n",
    "- **Restricted** portfolio ensures all assets have a positive weight\n",
    "\n",
    "Both restricted and unrestricted optimal risky portfolios must satisfy the constraint $\\sum_{i=1}^N w_i =1$.\n",
    "\n",
    "The **restricted portfolio** optimization problem for a risky portfolio with $N$ assets is defined as:"
   ]
  },
  {
   "cell_type": "markdown",
   "metadata": {},
   "source": [
    "$$\n",
    "Max\\ SR = Max\\ \n",
    "\\frac\n",
    "{\n",
    "\\sum_{i=1}^N w_i r_i - R_f\n",
    "}\n",
    "{\n",
    "\\sum_{i=1}^N \\sum_{j=1}^N w_i w_j \\sigma_{ij}\n",
    "}\n",
    "$$\n",
    "\n",
    "Subject to the constraint $0 \\leq w_i \\leq 1$ with $i = 1,\\dots,\\ N$"
   ]
  },
  {
   "cell_type": "markdown",
   "metadata": {},
   "source": [
    "The **unrestricted portfolio** optimization problem is defined as:"
   ]
  },
  {
   "cell_type": "markdown",
   "metadata": {},
   "source": [
    "$$\n",
    "Max\\ SR = Max\\ \n",
    "\\frac\n",
    "{\n",
    "\\sum_{i=1}^N w_i r_i - R_f\n",
    "}\n",
    "{\n",
    "\\sum_{i=1}^N \\sum_{j=1}^N w_i w_j \\sigma_{ij}\n",
    "}\n",
    "$$"
   ]
  },
  {
   "cell_type": "markdown",
   "metadata": {},
   "source": [
    "As the number of assets in the portfolio increases, construction of an optimal risky portfolio becomes an increasingly high-dimensional optimization problem wiith a variety of constraints.\n",
    "\n",
    "Whenever a particle flies to a new position in the search space, all the coinstraints on the portfolio must be satisfied in order to ensure a valid movement within the search space."
   ]
  }
 ],
 "metadata": {
  "kernelspec": {
   "display_name": "Python 3",
   "language": "python",
   "name": "python3"
  },
  "language_info": {
   "codemirror_mode": {
    "name": "ipython",
    "version": 3
   },
   "file_extension": ".py",
   "mimetype": "text/x-python",
   "name": "python",
   "nbconvert_exporter": "python",
   "pygments_lexer": "ipython3",
   "version": "3.8.6"
  }
 },
 "nbformat": 4,
 "nbformat_minor": 4
}
